{
 "cells": [
  {
   "cell_type": "code",
   "execution_count": null,
   "metadata": {},
   "outputs": [],
   "source": [
    "from bigchaindb_driver import BigchainDB\n",
    "from bigchaindb_driver.crypto import generate_keypair"
   ]
  },
  {
   "cell_type": "code",
   "execution_count": null,
   "metadata": {},
   "outputs": [],
   "source": [
    "BDB_ROOT_URL = 'http://localhost:9984'\n",
    "BDB = BigchainDB(BDB_ROOT_URL)"
   ]
  },
  {
   "cell_type": "code",
   "execution_count": null,
   "metadata": {},
   "outputs": [],
   "source": [
    "uct = generate_keypair()"
   ]
  },
  {
   "cell_type": "code",
   "execution_count": null,
   "metadata": {},
   "outputs": [],
   "source": [
    "def create_course(data, metadata, admin):\n",
    "    check_course_data(data)\n",
    "    check_course_metadata(metadata)\n",
    "    transaction_id = process_creation(data, metadata, admin)\n",
    "    return transaction_id\n",
    "    \n",
    "def process_creation(data, metadata, user):\n",
    "    transaction = prepare_create_transaction(data, metadata, user.public_key)\n",
    "    signed_transaction = fulfill_transaction(transaction, user.private_key)\n",
    "    receipt = send_transaction(signed_transaction)\n",
    "    if signed_transaction == receipt:\n",
    "        return receipt.get('id')\n",
    "    \n",
    "def check_course_data(data):\n",
    "    return True\n",
    "\n",
    "def check_course_metadata(metadata):\n",
    "    return True\n",
    "\n",
    "def prepare_create_transaction(data, metadata, key):\n",
    "    prepared_creation_tx = BDB.transactions.prepare(\n",
    "        operation='CREATE',\n",
    "        signers=key,\n",
    "        asset=data,\n",
    "        metadata=metadata,\n",
    "    )\n",
    "    return prepared_creation_tx\n",
    "\n",
    "def fulfill_transaction(transaction, key):\n",
    "    return BDB.transactions.fulfill(transaction, private_keys=key)\n",
    "\n",
    "def send_transaction(transaction):\n",
    "    return BDB.transactions.send_commit(transaction)"
   ]
  },
  {
   "cell_type": "code",
   "execution_count": null,
   "metadata": {},
   "outputs": [],
   "source": [
    "course = {\n",
    "    'data': {\n",
    "        'course': {\n",
    "            'name': 'Econometrics',\n",
    "            'description': 'This course is an introductory course in Econometrics',\n",
    "            'id': 'Econ104'\n",
    "        }\n",
    "    }\n",
    "}\n",
    "metadata = {\n",
    "    'passing': 60,\n",
    "    'distinction': 90\n",
    "}"
   ]
  },
  {
   "cell_type": "code",
   "execution_count": null,
   "metadata": {},
   "outputs": [],
   "source": [
    "econometrics_id = create_course(course, metadata, uct)"
   ]
  },
  {
   "cell_type": "code",
   "execution_count": null,
   "metadata": {},
   "outputs": [],
   "source": [
    "BDB.assets.get(search='course')"
   ]
  },
  {
   "cell_type": "code",
   "execution_count": null,
   "metadata": {},
   "outputs": [],
   "source": [
    "course = {\n",
    "    'data': {\n",
    "        'course': {\n",
    "            'name': 'Statistics',\n",
    "            'description': 'This course is an introductory course in Statistics',\n",
    "            'id': 'Econ105'\n",
    "        }\n",
    "    }\n",
    "}\n",
    "\n",
    "metadata = {\n",
    "    'passing': 60,\n",
    "    'distinction': 90\n",
    "}"
   ]
  },
  {
   "cell_type": "code",
   "execution_count": null,
   "metadata": {},
   "outputs": [],
   "source": [
    "statistics_id = create_course(course, metadata, uct)"
   ]
  },
  {
   "cell_type": "code",
   "execution_count": null,
   "metadata": {},
   "outputs": [],
   "source": [
    "BDB.assets.get(search='course')"
   ]
  },
  {
   "cell_type": "code",
   "execution_count": null,
   "metadata": {},
   "outputs": [],
   "source": [
    "BDB.transactions.get(asset_id=econometrics_id)"
   ]
  },
  {
   "cell_type": "code",
   "execution_count": null,
   "metadata": {},
   "outputs": [],
   "source": [
    "def create_degree(data, metadata, admin):\n",
    "    check_degree_data(data)\n",
    "    check_degree_metadata(metadata)\n",
    "    transaction_id = process_creation(data, metadata, admin)\n",
    "    return transaction_id\n",
    "    \n",
    "def check_degree_data(data):\n",
    "    return True\n",
    "\n",
    "def check_degree_metadata(metadata):\n",
    "    return True"
   ]
  },
  {
   "cell_type": "code",
   "execution_count": null,
   "metadata": {},
   "outputs": [],
   "source": [
    "degree = {\n",
    "    'data': {\n",
    "        'degree': {\n",
    "            'name': 'Financial Technology',\n",
    "            'level': 'Master',\n",
    "            'description': 'Masters degree in fintech',\n",
    "            'id': 'MFinTech'\n",
    "        }\n",
    "    }\n",
    "}\n",
    "\n",
    "metadata = {\n",
    "    'courses': []\n",
    "}"
   ]
  },
  {
   "cell_type": "code",
   "execution_count": null,
   "metadata": {},
   "outputs": [],
   "source": [
    "fintech_id = create_degree(degree, metadata, uct)"
   ]
  },
  {
   "cell_type": "code",
   "execution_count": null,
   "metadata": {},
   "outputs": [],
   "source": [
    "BDB.assets.get(search='degree')"
   ]
  },
  {
   "cell_type": "code",
   "execution_count": null,
   "metadata": {},
   "outputs": [],
   "source": [
    "BDB.transactions.get(asset_id=fintech_id)"
   ]
  },
  {
   "cell_type": "code",
   "execution_count": null,
   "metadata": {},
   "outputs": [],
   "source": [
    "def update_degree_course_list(asset_id, admin, course_id):\n",
    "    tx, tx_id = get_last_transaction(asset_id)\n",
    "    transaction_input = build_input(tx, tx_id)\n",
    "    metadata = update_course_list(tx, course_id)\n",
    "    transaction = prepare_update_transaction(asset_id, transaction_input, admin, metadata)\n",
    "    signed_transaction = fulfill_transaction(transaction, admin.private_key)\n",
    "    receipt = send_transaction(signed_transaction)\n",
    "    if signed_transaction == receipt:\n",
    "        return receipt.get('id')\n",
    "\n",
    "def get_last_transaction(asset_id):\n",
    "    transaction = BDB.transactions.get(asset_id=asset_id)[-1]\n",
    "    transaction_id = transaction.get('id')\n",
    "    return (transaction, transaction_id)\n",
    "\n",
    "def build_input(tx, tx_id):\n",
    "    output = tx.get('outputs')[-1]\n",
    "    tx_input = {\n",
    "        'fulfillment': output.get('condition').get('details'),\n",
    "        'fulfills': {\n",
    "            'output_index': 0,\n",
    "            'transaction_id': tx_id,\n",
    "        },\n",
    "        'owners_before': output.get('public_keys'),\n",
    "    }\n",
    "    return tx_input\n",
    "\n",
    "def update_course_list(tx, course_id):\n",
    "    metadata = tx.get('metadata')\n",
    "    metadata.get('courses').append(course_id)\n",
    "    return metadata\n",
    "\n",
    "def prepare_update_transaction(asset_id, tx_input, admin, metadata):\n",
    "    tx_transfer = BDB.transactions.prepare(\n",
    "        operation='TRANSFER',\n",
    "        inputs=tx_input,\n",
    "        asset={'id': asset_id},\n",
    "        recipients=admin.public_key,\n",
    "        metadata = metadata\n",
    "    )\n",
    "    return tx_transfer"
   ]
  },
  {
   "cell_type": "code",
   "execution_count": null,
   "metadata": {},
   "outputs": [],
   "source": [
    "update_degree_course_list(fintech_id,\n",
    "                          uct, \n",
    "                          econometrics_id)"
   ]
  },
  {
   "cell_type": "code",
   "execution_count": null,
   "metadata": {},
   "outputs": [],
   "source": [
    "BDB.transactions.get(asset_id=fintech_id)"
   ]
  },
  {
   "cell_type": "code",
   "execution_count": null,
   "metadata": {},
   "outputs": [],
   "source": [
    "update_degree_course_list(fintech_id,\n",
    "                          uct, \n",
    "                          statistics_id)"
   ]
  },
  {
   "cell_type": "code",
   "execution_count": null,
   "metadata": {},
   "outputs": [],
   "source": [
    "BDB.transactions.get(asset_id=fintech_id)"
   ]
  },
  {
   "cell_type": "code",
   "execution_count": null,
   "metadata": {},
   "outputs": [],
   "source": [
    "def get_all_courses():\n",
    "    return BDB.assets.get(search='course')\n",
    "\n",
    "def get_all_degrees():\n",
    "    return BDB.assets.get(search='degree')"
   ]
  },
  {
   "cell_type": "code",
   "execution_count": null,
   "metadata": {},
   "outputs": [],
   "source": [
    "get_all_courses()"
   ]
  },
  {
   "cell_type": "code",
   "execution_count": null,
   "metadata": {},
   "outputs": [],
   "source": [
    "get_all_degrees()"
   ]
  },
  {
   "cell_type": "code",
   "execution_count": null,
   "metadata": {},
   "outputs": [],
   "source": [
    "def create_mark(data, metadata, admin):\n",
    "    check_mark_data(data)\n",
    "    check_mark_metadata(metadata)\n",
    "    transaction_id = process_creation(data, metadata, admin)\n",
    "    return transaction_id\n",
    "    \n",
    "def check_mark_data(data):\n",
    "    return True\n",
    "\n",
    "def check_mark_metadata(metadata):\n",
    "    return True"
   ]
  },
  {
   "cell_type": "code",
   "execution_count": null,
   "metadata": {},
   "outputs": [],
   "source": [
    "mark = {\n",
    "    'data': {\n",
    "        'mark': {\n",
    "            'student': '0x03',\n",
    "            'course': econometrics_id,\n",
    "            'degree': fintech_id,\n",
    "        }\n",
    "    }\n",
    "}\n",
    "\n",
    "metadata = {\n",
    "    'mark': 85\n",
    "}"
   ]
  },
  {
   "cell_type": "code",
   "execution_count": null,
   "metadata": {},
   "outputs": [],
   "source": [
    "mark_id = create_mark(mark, metadata, uct)"
   ]
  },
  {
   "cell_type": "code",
   "execution_count": null,
   "metadata": {},
   "outputs": [],
   "source": [
    "def get_marks_by_address(address):\n",
    "    marks = BDB.assets.get(search=address)\n",
    "    for mark in marks:\n",
    "        course_id = mark.get('data').get('mark').get('course')\n",
    "        course_transaction = BDB.transactions.get(asset_id=course_id)\n",
    "        course = course_transaction[0].get('asset').get('data').get('course').get('name')\n",
    "        mark_id =  mark.get('id')\n",
    "        mark_transaction = BDB.transactions.get(asset_id=mark_id)\n",
    "        mark = mark_transaction[-1].get('metadata').get('mark')\n",
    "        print(course, mark)"
   ]
  },
  {
   "cell_type": "code",
   "execution_count": null,
   "metadata": {},
   "outputs": [],
   "source": [
    "get_marks_by_address('0x03')"
   ]
  },
  {
   "cell_type": "code",
   "execution_count": null,
   "metadata": {},
   "outputs": [],
   "source": []
  }
 ],
 "metadata": {
  "kernelspec": {
   "display_name": "Python 3",
   "language": "python",
   "name": "python3"
  },
  "language_info": {
   "codemirror_mode": {
    "name": "ipython",
    "version": 3
   },
   "file_extension": ".py",
   "mimetype": "text/x-python",
   "name": "python",
   "nbconvert_exporter": "python",
   "pygments_lexer": "ipython3",
   "version": "3.6.5"
  }
 },
 "nbformat": 4,
 "nbformat_minor": 2
}
