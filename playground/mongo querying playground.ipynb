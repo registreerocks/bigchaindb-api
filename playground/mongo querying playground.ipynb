{
 "cells": [
  {
   "cell_type": "code",
   "execution_count": null,
   "metadata": {},
   "outputs": [],
   "source": [
    "from pymongo import MongoClient\n",
    "from bigchaindb_driver import BigchainDB\n",
    "import time"
   ]
  },
  {
   "cell_type": "code",
   "execution_count": null,
   "metadata": {},
   "outputs": [],
   "source": [
    "MDB = MongoClient('localhost', 27017)\n",
    "BDB = BigchainDB('http://localhost:9984')"
   ]
  },
  {
   "cell_type": "code",
   "execution_count": null,
   "metadata": {},
   "outputs": [],
   "source": [
    "MDB.list_database_names()"
   ]
  },
  {
   "cell_type": "code",
   "execution_count": null,
   "metadata": {},
   "outputs": [],
   "source": [
    "mbc = MDB.bigchain"
   ]
  },
  {
   "cell_type": "code",
   "execution_count": null,
   "metadata": {},
   "outputs": [],
   "source": [
    "mbc.list_collection_names()"
   ]
  },
  {
   "cell_type": "code",
   "execution_count": null,
   "metadata": {},
   "outputs": [],
   "source": [
    "for a in mbc.assets.find({'data.asset_type':'university'}):\n",
    "    print(a)"
   ]
  },
  {
   "cell_type": "code",
   "execution_count": null,
   "metadata": {},
   "outputs": [],
   "source": [
    "for m in mbc.metadata.find({'id': 'a50bb3c754dde6013a4369c1ad6bc7bee325a2591d81a135f9ba7cb3ac279c51'}):\n",
    "    print(m)"
   ]
  },
  {
   "cell_type": "code",
   "execution_count": null,
   "metadata": {},
   "outputs": [],
   "source": [
    "for a in mbc.assets.find({'data.asset_type':'mark', 'data.student_address': '4'}):\n",
    "    print(a)\n",
    "    for m in mbc.metadata.find({'id': a['id']}):\n",
    "        print(m)"
   ]
  },
  {
   "cell_type": "code",
   "execution_count": null,
   "metadata": {},
   "outputs": [],
   "source": [
    "def _get_marks_by_student(address):\n",
    "    files = BDB.assets.get(search=address)\n",
    "    (files, course_data) = _retrieve_course_data(files, address)\n",
    "    degree_data = _retrieve_degree_data(files)\n",
    "    mark_data = _retrieve_mark_data(files, course_data)\n",
    "    return {'degree_data': degree_data, 'mark_data': mark_data}\n",
    "\n",
    "def _retrieve_degree_data(files):\n",
    "    if files:\n",
    "        degree_id = files[0].get('data').get('degree_id')\n",
    "        degree = BDB.transactions.get(asset_id=degree_id)\n",
    "        degree_data = {\n",
    "            'name': degree[0].get('asset').get('data').get('name'),\n",
    "            'level': degree[0].get('asset').get('data').get('level'),\n",
    "            'courses': degree[-1].get('metadata').get('courses')\n",
    "        }\n",
    "        return degree_data\n",
    "\n",
    "def _retrieve_course_data(files, address):\n",
    "    (files, course_ids) = _retrieve_course_ids(files, address)\n",
    "    course_data = _retrieve_course_information(course_ids)\n",
    "    return (files, course_data)\n",
    "\n",
    "def _retrieve_course_ids(files, address):\n",
    "    courses = []\n",
    "    for f in files[:]:\n",
    "        if (f.get('data').get('asset_type') == 'mark') and (f.get('data').get('student_address') == address):\n",
    "            courses.append(f.get('data').get('course_id'))\n",
    "        else:\n",
    "            files.remove(f)\n",
    "    return (files, list(set(courses)))\n",
    "\n",
    "def _retrieve_course_information(course_ids):\n",
    "    course_data = dict()\n",
    "    for course_id in course_ids:\n",
    "        course = BDB.transactions.get(asset_id=course_id)\n",
    "        course_data[course_id] = {\n",
    "            'name': course[0].get('asset').get('data').get('name'), \n",
    "            'lecturer': course[0].get('asset').get('data').get('lecturer'),\n",
    "            'components': course[-1].get('metadata').get('components')\n",
    "        }\n",
    "    return course_data\n",
    "\n",
    "def _retrieve_mark_data(mark_files, course_data):\n",
    "    mark_data = dict()\n",
    "    for f in mark_files:\n",
    "        course_id = f.get('data').get('course_id')\n",
    "        mark_type = f.get('data').get('type')\n",
    "        mark_file = BDB.transactions.get(asset_id=f.get('id'))[-1]\n",
    "        mark = mark_file.get('metadata').get('mark')\n",
    "        timestamp = mark_file.get('metadata').get('timestamp')\n",
    "        weighting = (item for item in course_data.get(course_id).get('components') if item[\"type\"] == mark_type).__next__().get('weighting')\n",
    "        if mark_data.get(course_id):\n",
    "            mark_data.get(course_id).get('components')[mark_type] = {\n",
    "                'mark': mark, \n",
    "                'weighting': weighting, \n",
    "                'timestamp': timestamp\n",
    "            }\n",
    "            if mark_data.get(course_id).get('year') < timestamp[:4]:\n",
    "                mark_data.get(course_id)['year'] = timestamp[:4]\n",
    "        else:\n",
    "            mark_data[course_id] = {\n",
    "                'name': course_data.get(course_id).get('name'), \n",
    "                'lecturer': course_data.get(course_id).get('lecturer'), \n",
    "                'year': timestamp[:4],\n",
    "                'components': {\n",
    "                    mark_type: {\n",
    "                        'mark': mark, \n",
    "                        'weighting': weighting, \n",
    "                        'timestamp': timestamp\n",
    "                    }\n",
    "                }\n",
    "            }\n",
    "    return mark_data"
   ]
  },
  {
   "cell_type": "code",
   "execution_count": null,
   "metadata": {},
   "outputs": [],
   "source": [
    "t0 = time.time()\n",
    "_get_marks_by_student('4')\n",
    "print(time.time() - t0)"
   ]
  },
  {
   "cell_type": "code",
   "execution_count": null,
   "metadata": {},
   "outputs": [],
   "source": [
    "def get_asset_data(_id):\n",
    "    asset = mbc.assets.find_one({'id': _id})\n",
    "    return asset['data']\n",
    "\n",
    "def get_asset_metadata(asset_id):\n",
    "    transactions = list(mbc.transactions.find({'asset.id': asset_id}))\n",
    "    if transactions:\n",
    "        return mbc.metadata.find_one({'id': transactions[-1]['id']})['metadata']\n",
    "    else:\n",
    "        return mbc.metadata.find_one({'id': asset_id})['metadata']"
   ]
  },
  {
   "cell_type": "code",
   "execution_count": null,
   "metadata": {},
   "outputs": [],
   "source": [
    "def get_student_mark_assets(student_address):\n",
    "    return list(mbc.assets.find({'data.asset_type':'mark', 'data.student_address': student_address}))\n",
    "\n",
    "def process(mark_assets):\n",
    "    course_ids = list()\n",
    "    degree_ids = list()\n",
    "    marks = dict()\n",
    "\n",
    "    for m in mark_assets:\n",
    "        course_id = m['data']['course_id']\n",
    "        degree_id = m['data']['degree_id']\n",
    "        mark_metadata = get_asset_metadata(m['id'])\n",
    "        \n",
    "        if not marks.get(course_id):\n",
    "            marks[course_id] = dict()\n",
    "            marks[course_id]['components'] = {m['data']['type']: {'mark': mark_metadata['mark'], 'timestamp': mark_metadata['timestamp']}, 'degree_id': m['data']['degree_id']}\n",
    "        else:\n",
    "            marks[course_id]['components'][m['data']['type']] = {'mark': mark_metadata['mark'], 'timestamp': mark_metadata['timestamp'], 'degree_id': m['data']['degree_id']}\n",
    "            \n",
    "        course_ids.append(course_id)\n",
    "        degree_ids.append(degree_id)\n",
    "        \n",
    "    course_ids = list(set(course_ids))\n",
    "    degree_ids = list(set(degree_ids))\n",
    "    \n",
    "    return (degree_ids, course_ids, marks)\n",
    "\n",
    "def add_course_info(marks, course_ids):\n",
    "    for course_id in course_ids:\n",
    "        course_asset = get_asset_data(course_id)\n",
    "        course_metadata = get_asset_metadata(course_id)\n",
    "        \n",
    "        if marks.get(course_id).get('year', '1900') < course_metadata['timestamp'][:4]:\n",
    "            marks.get(course_id)['year'] = course_metadata['timestamp'][:4]\n",
    "        \n",
    "        marks[course_id] = {**marks[course_id], **course_asset}\n",
    "        for c in course_metadata['components']:\n",
    "            marks[course_id]['components'][c['type']]['weighting'] = c['weighting']\n",
    "            \n",
    "    return marks\n",
    "\n",
    "def add_degree_info(marks, degree_ids):\n",
    "    degree_data = dict()\n",
    "    for degree_id in degree_ids:\n",
    "        degree_data[degree_id] = {**get_asset_data(degree_id), **get_asset_metadata(degree_id)}\n",
    "    return {'degree_data': degree_data, 'mark_data': marks}\n",
    "\n",
    "def _get_marks_by_student2(student_address):\n",
    "    mark_assets = get_student_mark_assets(student_address)\n",
    "    degree_ids, course_ids, mark_data = process(mark_assets)\n",
    "    mark_data = add_course_info(mark_data, course_ids)\n",
    "    mark_data = add_degree_info(mark_data, degree_ids)\n",
    "    return mark_data"
   ]
  },
  {
   "cell_type": "code",
   "execution_count": null,
   "metadata": {},
   "outputs": [],
   "source": [
    "t0 = time.time()\n",
    "_get_marks_by_student2('4')\n",
    "print(time.time() - t0)"
   ]
  },
  {
   "cell_type": "code",
   "execution_count": null,
   "metadata": {},
   "outputs": [],
   "source": []
  }
 ],
 "metadata": {
  "kernelspec": {
   "display_name": "Python 3",
   "language": "python",
   "name": "python3"
  },
  "language_info": {
   "codemirror_mode": {
    "name": "ipython",
    "version": 3
   },
   "file_extension": ".py",
   "mimetype": "text/x-python",
   "name": "python",
   "nbconvert_exporter": "python",
   "pygments_lexer": "ipython3",
   "version": "3.6.6"
  }
 },
 "nbformat": 4,
 "nbformat_minor": 2
}
